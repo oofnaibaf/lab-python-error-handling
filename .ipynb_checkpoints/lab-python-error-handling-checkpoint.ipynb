{
 "cells": [
  {
   "cell_type": "markdown",
   "id": "25d7736c-ba17-4aff-b6bb-66eba20fbf4e",
   "metadata": {},
   "source": [
    "# Lab | Error Handling"
   ]
  },
  {
   "cell_type": "markdown",
   "id": "bc99b386-7508-47a0-bcdb-d969deaf6c8b",
   "metadata": {},
   "source": [
    "## Exercise: Error Handling for Managing Customer Orders\n",
    "\n",
    "The implementation of your code for managing customer orders assumes that the user will always enter a valid input. \n",
    "\n",
    "For example, we could modify the `initialize_inventory` function to include error handling.\n",
    "   - If the user enters an invalid quantity (e.g., a negative value or a non-numeric value), display an error message and ask them to re-enter the quantity for that product.\n",
    "   - Use a try-except block to handle the error and continue prompting the user until a valid quantity is entered.\n",
    "\n",
    "```python\n",
    "# Step 1: Define the function for initializing the inventory with error handling\n",
    "def initialize_inventory(products):\n",
    "    inventory = {}\n",
    "    for product in products:\n",
    "        valid_quantity = False\n",
    "        while not valid_quantity:\n",
    "            try:\n",
    "                quantity = int(input(f\"Enter the quantity of {product}s available: \"))\n",
    "                if quantity < 0:\n",
    "                    raise ValueError(\"Invalid quantity! Please enter a non-negative value.\")\n",
    "                valid_quantity = True\n",
    "            except ValueError as error:\n",
    "                print(f\"Error: {error}\")\n",
    "        inventory[product] = quantity\n",
    "    return inventory\n",
    "\n",
    "# Or, in another way:\n",
    "\n",
    "def initialize_inventory(products):\n",
    "    inventory = {}\n",
    "    for product in products:\n",
    "        valid_input = False\n",
    "        while not valid_input:\n",
    "            try:\n",
    "                quantity = int(input(f\"Enter the quantity of {product}s available: \"))\n",
    "                if quantity >= 0:\n",
    "                    inventory[product] = quantity\n",
    "                    valid_input = True\n",
    "                else:\n",
    "                    print(\"Quantity cannot be negative. Please enter a valid quantity.\")\n",
    "            except ValueError:\n",
    "                print(\"Invalid input. Please enter a valid quantity.\")\n",
    "    return inventory\n",
    "```\n",
    "\n",
    "Let's enhance your code by implementing error handling to handle invalid inputs.\n",
    "\n",
    "Follow the steps below to complete the exercise:\n",
    "\n",
    "2. Modify the `calculate_total_price` function to include error handling.\n",
    "   - If the user enters an invalid price (e.g., a negative value or a non-numeric value), display an error message and ask them to re-enter the price for that product.\n",
    "   - Use a try-except block to handle the error and continue prompting the user until a valid price is entered.\n",
    "\n",
    "3. Modify the `get_customer_orders` function to include error handling.\n",
    "   - If the user enters an invalid number of orders (e.g., a negative value or a non-numeric value), display an error message and ask them to re-enter the number of orders.\n",
    "   - If the user enters an invalid product name (e.g., a product name that is not in the inventory), or that doesn't have stock available, display an error message and ask them to re-enter the product name. *Hint: you will need to pass inventory as a parameter*\n",
    "   - Use a try-except block to handle the error and continue prompting the user until a valid product name is entered.\n",
    "\n",
    "4. Test your code by running the program and deliberately entering invalid quantities and product names. Make sure the error handling mechanism works as expected.\n"
   ]
  },
  {
   "cell_type": "code",
   "execution_count": null,
   "id": "2c670ebc-41ca-48d3-a119-b3435aace5a3",
   "metadata": {},
   "outputs": [
    {
     "name": "stdin",
     "output_type": "stream",
     "text": [
      "Enter the quantity of Apples available:  xx\n"
     ]
    },
    {
     "name": "stdout",
     "output_type": "stream",
     "text": [
      "Invalid input. Please enter a valid numeric quantity.\n"
     ]
    },
    {
     "name": "stdin",
     "output_type": "stream",
     "text": [
      "Enter the quantity of Apples available:  100\n",
      "Enter the quantity of Bananas available:  asdlkj\n"
     ]
    },
    {
     "name": "stdout",
     "output_type": "stream",
     "text": [
      "Invalid input. Please enter a valid numeric quantity.\n"
     ]
    },
    {
     "name": "stdin",
     "output_type": "stream",
     "text": [
      "Enter the quantity of Bananas available:  20\n",
      "Enter the quantity of Oranges available:  20\n",
      "Enter the quantity of Grapess available:  20\n",
      "Enter the number of customer orders:  asld\n"
     ]
    },
    {
     "name": "stdout",
     "output_type": "stream",
     "text": [
      "Invalid input. Please enter a valid numeric number of orders.\n"
     ]
    },
    {
     "name": "stdin",
     "output_type": "stream",
     "text": [
      "Enter the number of customer orders:  2\n",
      "Enter product name for order 1:  asd\n"
     ]
    },
    {
     "name": "stdout",
     "output_type": "stream",
     "text": [
      "asd is not available in inventory. Please enter a valid product.\n"
     ]
    },
    {
     "name": "stdin",
     "output_type": "stream",
     "text": [
      "Enter product name for order 1:  Grape\n"
     ]
    },
    {
     "name": "stdout",
     "output_type": "stream",
     "text": [
      "Grape is not available in inventory. Please enter a valid product.\n"
     ]
    },
    {
     "name": "stdin",
     "output_type": "stream",
     "text": [
      "Enter product name for order 1:  Grapess\n"
     ]
    },
    {
     "name": "stdout",
     "output_type": "stream",
     "text": [
      "Grapess is not available in inventory. Please enter a valid product.\n"
     ]
    },
    {
     "name": "stdin",
     "output_type": "stream",
     "text": [
      "Enter product name for order 1:  Grapes\n",
      "Enter product name for order 2:  Apples\n"
     ]
    },
    {
     "name": "stdout",
     "output_type": "stream",
     "text": [
      "Apples is not available in inventory. Please enter a valid product.\n"
     ]
    },
    {
     "name": "stdin",
     "output_type": "stream",
     "text": [
      "Enter product name for order 2:  Apple\n"
     ]
    },
    {
     "name": "stdout",
     "output_type": "stream",
     "text": [
      "Total products ordered: 2\n",
      "Percentage of unique products ordered: 50.00%\n",
      "Updated Inventory:\n",
      "Apple: 99\n",
      "Banana: 19\n",
      "Orange: 19\n",
      "Grapes: 19\n"
     ]
    }
   ],
   "source": [
    "# ALL INVENTORY FUNCTIONS START\n",
    "def initialize_inventory(products):\n",
    "    \"\"\"Initialize inventory with user-input quantities, ensuring valid input.\"\"\"\n",
    "    inventory = {}\n",
    "    for product in products:\n",
    "        while True:\n",
    "            try:\n",
    "                quantity = int(input(f\"Enter the quantity of {product}s available: \"))\n",
    "                if quantity < 0:\n",
    "                    print(\"Quantity cannot be negative. Please enter a valid quantity.\")\n",
    "                else:\n",
    "                    inventory[product] = quantity\n",
    "                    break\n",
    "            except ValueError:\n",
    "                print(\"Invalid input. Please enter a valid numeric quantity.\")\n",
    "    return inventory\n",
    "\n",
    "def update_inventory(customer_orders, inventory):\n",
    "    \"\"\"\n",
    "    Updates the inventory dictionary based on customer orders.\n",
    "    Reduces inventory count by 1 for each ordered product.\n",
    "    Removes products with zero quantity from inventory.\n",
    "    \"\"\"\n",
    "    # Reduce inventory quantities and filter out products with zero quantity\n",
    "    inventory = {product: max(quantity - 1, 0) for product, quantity in inventory.items() if product not in customer_orders or quantity > 1}\n",
    "    return inventory\n",
    "# ALL INVENTORY FUNCTIONS END\n",
    "\n",
    "# ALL CUSTOMER FUNCTIONS START\n",
    "def get_customer_orders(inventory):\n",
    "    \"\"\"Prompt the user to enter the number of orders and collect valid product names.\"\"\"\n",
    "    while True:\n",
    "        try:\n",
    "            num_orders = int(input(\"Enter the number of customer orders: \"))\n",
    "            if num_orders < 0:\n",
    "                print(\"Number of orders cannot be negative. Please enter a valid number.\")\n",
    "            else:\n",
    "                break\n",
    "        except ValueError:\n",
    "            print(\"Invalid input. Please enter a valid numeric number of orders.\")\n",
    "\n",
    "    customer_orders = set()\n",
    "    for i in range(num_orders):\n",
    "        while True:\n",
    "            product_name = input(f\"Enter product name for order {i + 1}: \")\n",
    "            if product_name not in inventory:\n",
    "                print(f\"{product_name} is not available in inventory. Please enter a valid product.\")\n",
    "            elif inventory[product_name] <= 0:\n",
    "                print(f\"{product_name} is out of stock. Please enter a different product.\")\n",
    "            else:\n",
    "                customer_orders.add(product_name)\n",
    "                break\n",
    "    return customer_orders\n",
    "\n",
    "def calculate_order_statistics(customer_orders, products):\n",
    "    \"\"\"Calculate total products ordered and percentage of unique products ordered.\"\"\"\n",
    "    total_products_ordered = len(customer_orders)  # Total unique products ordered\n",
    "    unique_products_ordered = len(customer_orders.intersection(products))\n",
    "    percentage_unique = (unique_products_ordered / len(products) * 100) if products else 0\n",
    "    return total_products_ordered, percentage_unique  # Returns as a tuple\n",
    "\n",
    "def print_order_statistics(order_statistics):\n",
    "    \"\"\"Print the total and unique order statistics.\"\"\"\n",
    "    total_ordered, percentage_unique = order_statistics\n",
    "    print(f\"Total products ordered: {total_ordered}\")\n",
    "    print(f\"Percentage of unique products ordered: {percentage_unique:.2f}%\")\n",
    "\n",
    "def print_updated_inventory(inventory):\n",
    "    \"\"\"Print the updated inventory.\"\"\"\n",
    "    print(\"Updated Inventory:\")\n",
    "    for product, quantity in inventory.items():\n",
    "        print(f\"{product}: {quantity}\")\n",
    "# ALL CUSTOMER FUNCTIONS END\n",
    "\n",
    "def calculate_total_price(customer_orders):\n",
    "    \"\"\"\n",
    "    Calculates the total price of the customer's order with error handling.\n",
    "    Prompts user to enter the price for each product in customer_orders.\n",
    "    \"\"\"\n",
    "    total_price = 0\n",
    "    for product in customer_orders:\n",
    "        while True:\n",
    "            try:\n",
    "                price = float(input(f\"Enter the price for {product}: \"))\n",
    "                if price < 0:\n",
    "                    print(\"Price cannot be negative. Please enter a valid price.\")\n",
    "                else:\n",
    "                    total_price += price\n",
    "                    break\n",
    "            except ValueError:\n",
    "                print(\"Invalid input. Please enter a valid numeric price.\")\n",
    "    return total_price\n",
    "\n",
    "# Main execution sequence\n",
    "def main():\n",
    "    products = [\"Apple\", \"Banana\", \"Orange\", \"Grapes\"]  # Sample product list\n",
    "    inventory = initialize_inventory(products)                 # Initialize inventory with error handling\n",
    "    customer_orders = get_customer_orders(inventory)           # Get customer orders with error handling\n",
    "    inventory = update_inventory(customer_orders, inventory)   # Update inventory and remove products with zero quantity\n",
    "    order_statistics = calculate_order_statistics(customer_orders, products)  # Calculate statistics\n",
    "    print_order_statistics(order_statistics)                   # Print order statistics\n",
    "    print_updated_inventory(inventory)                         # Print updated inventory\n",
    "    total_price = calculate_total_price(customer_orders)       # Calculate and print total price\n",
    "    print(f\"Total price of the order: ${total_price:.2f}\")\n",
    "\n",
    "# Run the program\n",
    "if __name__ == \"__main__\":\n",
    "    main()\n"
   ]
  },
  {
   "cell_type": "code",
   "execution_count": null,
   "id": "f71ac1a0-94ce-47e7-986d-140f249abadc",
   "metadata": {},
   "outputs": [],
   "source": []
  }
 ],
 "metadata": {
  "kernelspec": {
   "display_name": "Python 3 (ipykernel)",
   "language": "python",
   "name": "python3"
  },
  "language_info": {
   "codemirror_mode": {
    "name": "ipython",
    "version": 3
   },
   "file_extension": ".py",
   "mimetype": "text/x-python",
   "name": "python",
   "nbconvert_exporter": "python",
   "pygments_lexer": "ipython3",
   "version": "3.12.4"
  }
 },
 "nbformat": 4,
 "nbformat_minor": 5
}
